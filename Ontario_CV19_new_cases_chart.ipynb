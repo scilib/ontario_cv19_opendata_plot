{
  "nbformat": 4,
  "nbformat_minor": 0,
  "metadata": {
    "colab": {
      "name": "Copy of Ontario CV19 new cases chart with top dates.ipynb",
      "provenance": [],
      "collapsed_sections": []
    },
    "kernelspec": {
      "name": "python3",
      "display_name": "Python 3"
    },
    "language_info": {
      "name": "python"
    }
  },
  "cells": [
    {
      "cell_type": "markdown",
      "metadata": {
        "id": "hnhJlz-eqg6f"
      },
      "source": [
        "Charting new COVID-19 cases in Ontario.\n",
        "Initially just Ottawa Public Health Unit (PHU).\n",
        "\n",
        "Richard Akerman\n",
        "April 3, 2021\n",
        "\n",
        "Plan is to extract from Ontario open data CSV.\n",
        "\n",
        "Code developed in [Google Colaboratory](https://colab.research.google.com/) will be posted to GitHub (scilib) with MIT License.\n",
        "\n",
        "Thanks to José Aguilera for the presentation “The Data Analysis Process – using Jupyter Notebook (Python)” which provided the basis for the many of the techniques used in this code."
      ]
    },
    {
      "cell_type": "markdown",
      "metadata": {
        "id": "aKOOCAlB6FNQ"
      },
      "source": [
        "Find out Python coding conventions.\n",
        "[PEP 8 -- Style Guide for Python Code](https://www.python.org/dev/peps/pep-0008/)\n",
        "\n",
        "Had to read waaaay down in the document to find the naming conventions.\n",
        "\n",
        "> Function names should be lowercase, with words separated by underscores as necessary to improve readability.\n",
        "\n",
        "> Variable names follow the same convention as function names.\n",
        "\n",
        "> In Python, single-quoted strings and double-quoted strings are the same. This PEP does not make a recommendation for this. \n",
        "\n",
        "(Seems like most use single quotes though.  I'm used to using double quotes to prevent the string being evaluated.)"
      ]
    },
    {
      "cell_type": "markdown",
      "metadata": {
        "id": "3kjzLPlg41V-"
      },
      "source": [
        "# Set up"
      ]
    },
    {
      "cell_type": "code",
      "metadata": {
        "id": "w7vyP9j_qfdH"
      },
      "source": [
        "# import all packages\n",
        "import pandas as pd\n",
        "import matplotlib.pyplot as plt\n"
      ],
      "execution_count": 2,
      "outputs": []
    },
    {
      "cell_type": "markdown",
      "metadata": {
        "id": "D7pmdkl8umOf"
      },
      "source": [
        "# Download a file\n",
        "\n",
        "StackOverflow - [Given a URL to a text file, what is the simplest way to read the contents of the text file?](https://stackoverflow.com/questions/1393324/given-a-url-to-a-text-file-what-is-the-simplest-way-to-read-the-contents-of-the)\n",
        "\n",
        "There is no \"urllib2\" (in Python 3).\n",
        "Use urllib.\n",
        "\n",
        "StackOverflow - [How to read a CSV file from a URL with Python?](https://stackoverflow.com/questions/16283799/how-to-read-a-csv-file-from-a-url-with-python)\n",
        "\n",
        "Considerations:\n",
        "\n",
        "*   will break if URL changes\n",
        "*   will break if CSV file format changes\n",
        "*   some potential file size risk if the file is gigantic\n",
        "*   should be checking for returned error codes\n",
        "\n",
        "Should check if there is a way to access the data through an API rather than downloading the CSV, but CSV is easy to parse for now.\n",
        "\n",
        "All Ontario COVID-19 open data - [Ontario Data Catalogue matching \"COVID-19\"](https://data.ontario.ca/dataset?keywords_en=COVID-19)\n",
        "\n",
        "Specific dataset is on [Status of COVID-19 cases in Ontario](https://data.ontario.ca/dataset/status-of-covid-19-cases-in-ontario) page, subsection \"Daily change in cases by PHU\" - CSV file is https://data.ontario.ca/dataset/f4f86e54-872d-43f8-8a86-3892fd3cb5e6/resource/8a88fe6d-d8fb-41a3-9d04-f0550a44999f/download/daily_change_in_cases_by_phu.csv\n"
      ]
    },
    {
      "cell_type": "code",
      "metadata": {
        "id": "cOasNagQ44WE"
      },
      "source": [
        "# Ontario COVID-19 open data - new cases\n",
        "# put URL in quotes - (but make it a variable anyway for ease of reuse)\n",
        "# tried urllib and csv lib which didn't work, but pandas works\n",
        "# you can use the same pandas format to read from a local file \n",
        "\n",
        "new_cases_url = \"https://data.ontario.ca/dataset/f4f86e54-872d-43f8-8a86-3892fd3cb5e6/resource/8a88fe6d-d8fb-41a3-9d04-f0550a44999f/download/daily_change_in_cases_by_phu.csv\"\n",
        "new_cases_data = pd.read_csv(new_cases_url)"
      ],
      "execution_count": 3,
      "outputs": []
    },
    {
      "cell_type": "markdown",
      "metadata": {
        "id": "baQOt7K20d6M"
      },
      "source": [
        "(Optional) Have a look at the data."
      ]
    },
    {
      "cell_type": "code",
      "metadata": {
        "id": "nXVNQLnw0gmM",
        "colab": {
          "base_uri": "https://localhost:8080/"
        },
        "outputId": "6b3bd11b-a3b1-4d5b-c74a-70a393df0bb2"
      },
      "source": [
        "# do sample and info to have a look at the data - all numbers are float64\n",
        "new_cases_data.sample(5)\n",
        "new_cases_data.info()"
      ],
      "execution_count": null,
      "outputs": [
        {
          "output_type": "stream",
          "name": "stdout",
          "text": [
            "<class 'pandas.core.frame.DataFrame'>\n",
            "RangeIndex: 537 entries, 0 to 536\n",
            "Data columns (total 36 columns):\n",
            " #   Column                          Non-Null Count  Dtype  \n",
            "---  ------                          --------------  -----  \n",
            " 0   Date                            537 non-null    object \n",
            " 1   Algoma_District                 534 non-null    float64\n",
            " 2   Brant_County                    534 non-null    float64\n",
            " 3   Chatham_Kent                    534 non-null    float64\n",
            " 4   Durham_Region                   534 non-null    float64\n",
            " 5   Eastern_Ontario                 534 non-null    float64\n",
            " 6   Grey_Bruce                      534 non-null    float64\n",
            " 7   Haldimand_Norfolk               534 non-null    float64\n",
            " 8   Haliburton_Kawartha_Pine_Ridge  534 non-null    float64\n",
            " 9   Halton_Region                   534 non-null    float64\n",
            " 10  City_of_Hamilton                534 non-null    float64\n",
            " 11  Hastings_Prince_Edward          534 non-null    float64\n",
            " 12  Huron_Perth                     534 non-null    float64\n",
            " 13  KFLA                            534 non-null    float64\n",
            " 14  Lambton_County                  534 non-null    float64\n",
            " 15  Leeds_Grenville_Lanark          534 non-null    float64\n",
            " 16  Middlesex_London                534 non-null    float64\n",
            " 17  Niagara_Region                  534 non-null    float64\n",
            " 18  North_Bay_Parry_Sound_District  534 non-null    float64\n",
            " 19  Northwestern                    534 non-null    float64\n",
            " 20  City_of_Ottawa                  534 non-null    float64\n",
            " 21  Peel_Region                     534 non-null    float64\n",
            " 22  Peterborough_County_City        534 non-null    float64\n",
            " 23  Porcupine                       534 non-null    float64\n",
            " 24  Waterloo_Region                 534 non-null    float64\n",
            " 25  Renfrew_County_and_District     534 non-null    float64\n",
            " 26  Simcoe_Muskoka_District         534 non-null    float64\n",
            " 27  Southwestern                    534 non-null    float64\n",
            " 28  Sudbury_and_District            534 non-null    float64\n",
            " 29  Thunder_Bay_District            534 non-null    float64\n",
            " 30  Timiskaming                     534 non-null    float64\n",
            " 31  Toronto                         534 non-null    float64\n",
            " 32  Wellington_Dufferin_Guelph      534 non-null    float64\n",
            " 33  Windsor_Essex_County            534 non-null    float64\n",
            " 34  York_Region                     534 non-null    float64\n",
            " 35  Total                           537 non-null    int64  \n",
            "dtypes: float64(34), int64(1), object(1)\n",
            "memory usage: 151.2+ KB\n"
          ]
        }
      ]
    },
    {
      "cell_type": "markdown",
      "metadata": {
        "id": "0FmdIz_q0l6M"
      },
      "source": [
        "# Isolate/extract the Ottawa_Public_Health unit column\n",
        "\n",
        "Towards Data Science - [Extract Rows/Columns from A Dataframe in Python & R](https://towardsdatascience.com/extract-rows-columns-from-a-dataframe-in-python-r-678e5b6743d6)\n",
        "\n",
        "Above reference useful but also confusing as it is easy to mix up the R code with the Python code.\n",
        "\n",
        "Note: Medium is not a good site to share code examples, because it pops up a quote thing when you try to copy and paste, rather than just letting you copy."
      ]
    },
    {
      "cell_type": "code",
      "metadata": {
        "id": "QG5RYWmN0rnG"
      },
      "source": [
        "# make a copy just in case I want to make changes / delete columns etc.\n",
        "ottawa_new_cases_data = new_cases_data\n",
        "\n",
        "# seems like you can assign your own names to columns which I don't want to do\n",
        "\n",
        "# can get a list of all columns\n",
        "# ottawa_new_cases_data.columns\n",
        "\n",
        "# there should already be a column called Ottawa_Public_Health\n",
        "# UPDATE 2021-07-07 column is now called City_of_Ottawa\n",
        "desired_column = \"City_of_Ottawa\"\n",
        "\n",
        "# print(ottawa_new_cases_data[[desired_column]])\n",
        "\n",
        "# display the top 5 largest case days\n",
        "# print(ottawa_new_cases_data[['Date',desired_column]].nlargest(5, desired_column))\n",
        "\n",
        "# print with dates\n",
        "\n",
        "# print(ottawa_new_cases_data[['Date', desired_column]])"
      ],
      "execution_count": 4,
      "outputs": []
    },
    {
      "cell_type": "markdown",
      "metadata": {
        "id": "Js3X-1w25EKE"
      },
      "source": [
        "# Plot\n",
        "\n",
        "matplotlib - [matplotlib.pyplot.grid](https://matplotlib.org/stable/api/_as_gen/matplotlib.pyplot.grid.html)"
      ]
    },
    {
      "cell_type": "code",
      "metadata": {
        "colab": {
          "base_uri": "https://localhost:8080/",
          "height": 965
        },
        "id": "AjxLIvHL5FW7",
        "outputId": "315bd63f-6bca-422d-895a-d7be4bf83881"
      },
      "source": [
        "# try a horizontal bar plot\n",
        "# use figsize to set size\n",
        "# TODO: exclude negative values?\n",
        "\n",
        "# the line below will plot all of the data in a giant chart\n",
        "#ottawa_new_cases_data.plot.barh(y=desired_column,x=0,figsize=(40,80),legend=False,title=\"Ottawa Public Health - New COVID-19 Cases by Day\")\n",
        "\n",
        "number_of_items = 14\n",
        "\n",
        "# add table of values\n",
        "print(ottawa_new_cases_data[['Date', desired_column]].tail(number_of_items))\n",
        "print(\"\\n\")\n",
        "\n",
        "# horizontal bar\n",
        "# ax = ottawa_new_cases_data.tail(number_of_items).plot.barh(y=desired_column,x=0,figsize=(10,10),legend=False,title=\"Ottawa Public Health - New COVID-19 Cases by Day\")\n",
        "\n",
        "# vertical bar\n",
        "ax = ottawa_new_cases_data.tail(number_of_items).plot.bar(y=desired_column,x=0,figsize=(10,10),legend=False,title=\"Ottawa Public Health - New COVID-19 Cases by Day\")\n",
        "\n",
        "# vertical grid\n",
        "# ax.grid(axis='x',color='0.85')\n",
        "\n",
        "# horizontal grid\n",
        "ax.grid(axis='y',color='0.85')\n",
        "\n",
        "# flip it to put newer dates at the bottom\n",
        "# ax.invert_yaxis()"
      ],
      "execution_count": 6,
      "outputs": [
        {
          "output_type": "stream",
          "name": "stdout",
          "text": [
            "           Date  City_of_Ottawa\n",
            "634  2021-12-18           256.0\n",
            "635  2021-12-19           334.0\n",
            "636  2021-12-20           273.0\n",
            "637  2021-12-21           359.0\n",
            "638  2021-12-22           363.0\n",
            "639  2021-12-23           486.0\n",
            "640  2021-12-24           624.0\n",
            "641  2021-12-25           648.0\n",
            "642  2021-12-26           867.0\n",
            "643  2021-12-27           826.0\n",
            "644  2021-12-28           376.0\n",
            "645  2021-12-29           644.0\n",
            "646  2021-12-30           683.0\n",
            "647  2021-12-31          1431.0\n",
            "\n",
            "\n"
          ]
        },
        {
          "output_type": "display_data",
          "data": {
            "image/png": "[encoded data removed]",
            "text/plain": [
              "<Figure size 720x720 with 1 Axes>"
            ]
          },
          "metadata": {
            "needs_background": "light"
          }
        }
      ]
    },
    {
      "cell_type": "code",
      "source": [
        "# get the top number_of_items cases\n",
        "\n",
        "print(ottawa_new_cases_data.nlargest(n = number_of_items, columns = desired_column)[['Date', desired_column]])\n",
        "print(\"\\n\")"
      ],
      "metadata": {
        "colab": {
          "base_uri": "https://localhost:8080/"
        },
        "id": "8kAowRo05jrp",
        "outputId": "50714abc-6fcc-4220-e894-244371f57901"
      },
      "execution_count": 7,
      "outputs": [
        {
          "output_type": "stream",
          "name": "stdout",
          "text": [
            "           Date  City_of_Ottawa\n",
            "647  2021-12-31          1431.0\n",
            "642  2021-12-26           867.0\n",
            "643  2021-12-27           826.0\n",
            "646  2021-12-30           683.0\n",
            "641  2021-12-25           648.0\n",
            "645  2021-12-29           644.0\n",
            "640  2021-12-24           624.0\n",
            "639  2021-12-23           486.0\n",
            "383  2021-04-11           377.0\n",
            "644  2021-12-28           376.0\n",
            "388  2021-04-16           366.0\n",
            "638  2021-12-22           363.0\n",
            "637  2021-12-21           359.0\n",
            "387  2021-04-15           342.0\n",
            "\n",
            "\n"
          ]
        }
      ]
    }
  ]
}